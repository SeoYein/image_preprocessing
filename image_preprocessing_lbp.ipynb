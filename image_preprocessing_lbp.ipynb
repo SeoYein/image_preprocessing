{
 "cells": [
  {
   "cell_type": "code",
   "execution_count": 6,
   "metadata": {},
   "outputs": [],
   "source": [
    "from skimage import feature\n",
    "import numpy as np\n",
    "import cv2\n",
    "from imutils import paths\n",
    "\n",
    "\"\"\"\n",
    "get lbp feature\n",
    "\"\"\"\n",
    "class LocalBinaryPatterns:\n",
    "    def __init__(self, numPoints, radius):\n",
    "        # store the number of points and radius\n",
    "        self.numPoints = numPoints\n",
    "        self.radius = radius\n",
    " \n",
    "    def describe(self, image):\n",
    "        # compute the Local Binary Pattern representation\n",
    "        # of the image, and then use the LBP representation\n",
    "        # to build the histogram of patterns\n",
    "        lbp = feature.local_binary_pattern(image, self.numPoints,\n",
    "                                           self.radius)\n",
    "        #flatten\n",
    "        (hist, _) = np.histogram(lbp.ravel(),\n",
    "                                 bins=16)\n",
    "        \n",
    "        # return the histogram of Local Binary Patterns\n",
    "        return hist, lbp"
   ]
  },
  {
   "cell_type": "code",
   "execution_count": 7,
   "metadata": {},
   "outputs": [],
   "source": [
    "\"\"\"\n",
    "get all file absolute path from directory\n",
    "\"\"\"\n",
    "def file_nm(image_directory):\n",
    "    file_list = []\n",
    "    for imagepath in paths.list_images(image_directory):\n",
    "        file_list.append(imagepath)\n",
    "    return file_list"
   ]
  },
  {
   "cell_type": "code",
   "execution_count": 8,
   "metadata": {},
   "outputs": [],
   "source": [
    "# test\n",
    "img_dir = \"G:\\\\___0916\\\\train_120000_data_refined\\\\sample\"\n",
    "\n",
    "desc = LocalBinaryPatterns(8, 1)\n",
    "\n",
    "files = file_nm(img_dir)\n",
    "\n",
    "# get just one file \n",
    "file = files[1]\n",
    "\n",
    "image = cv2.imread(file)\n",
    "gray = cv2.cvtColor(image, cv2.COLOR_BGR2GRAY)\n",
    "hist, lbp = desc.describe(gray)\n",
    "\n",
    "cv2.imwrite('lbp.jpg',lbp)"
   ]
  },
  {
   "cell_type": "code",
   "execution_count": 43,
   "metadata": {},
   "outputs": [
    {
     "data": {
      "text/plain": [
       "True"
      ]
     },
     "execution_count": 43,
     "metadata": {},
     "output_type": "execute_result"
    }
   ],
   "source": [
    "img_dir = \"G:\\\\___0916\\\\train_120000_data_refined\\\\sample\"\n",
    "\n",
    "files = file_nm(img_dir)\n",
    "file = files[2]\n",
    "\n",
    "image = cv2.imread(file)\n",
    "gray = cv2.cvtColor(image, cv2.COLOR_BGR2GRAY)\n",
    "th2 = cv2.adaptiveThreshold(gray,255,cv2.ADAPTIVE_THRESH_MEAN_C,cv2.THRESH_BINARY,9,4)\n",
    "cv2.imwrite('thres.jpg',th2)"
   ]
  },
  {
   "cell_type": "markdown",
   "metadata": {},
   "source": [
    "## adaptive thresholding"
   ]
  },
  {
   "cell_type": "code",
   "execution_count": 45,
   "metadata": {},
   "outputs": [],
   "source": [
    "# thresholding \n",
    "def thres(img_name):\n",
    "    image = cv2.imread(img_name)\n",
    "    gray = cv2.cvtColor(image, cv2.COLOR_BGR2GRAY)\n",
    "    th2 = cv2.adaptiveThreshold(gray,255,cv2.ADAPTIVE_THRESH_MEAN_C,cv2.THRESH_BINARY,9,4)\n",
    "    return th2"
   ]
  },
  {
   "cell_type": "code",
   "execution_count": null,
   "metadata": {},
   "outputs": [],
   "source": [
    "directory = \"G:\\\\___0916\\\\train_120000_data_refined\\\\roi_small\\\\Valid\"\n",
    "files = file_nm(directory)\n",
    "\n",
    "os.makedirs(\"./Thres\", exist_ok =True)\n",
    "for file in files:\n",
    "    rootdir = \".\\\\Thres\"\n",
    "    which = file.split(os.sep)[-3]\n",
    "    subdir = file.split(os.sep)[-2]\n",
    "    name = file.split(os.sep)[-1]\n",
    "    thresed = thres(file)\n",
    "    path = os.path.join(rootdir, which, subdir)\n",
    "    os.makedirs(path,exist_ok=True)\n",
    "    cv2.imwrite(os.path.join(path,name), thresed)"
   ]
  },
  {
   "cell_type": "markdown",
   "metadata": {},
   "source": [
    "## lbp"
   ]
  },
  {
   "cell_type": "code",
   "execution_count": null,
   "metadata": {},
   "outputs": [],
   "source": [
    "directory = \"G:\\\\___0916\\\\train_120000_data_refined\\\\roi_small\\\\Valid\"\n",
    "files = file_nm(directory)\n",
    "\n",
    "os.makedirs(\"./lbp\", exist_ok =True)\n",
    "for file in files:\n",
    "    image = cv2.imread(file)\n",
    "    gray = cv2.cvtColor(image, cv2.COLOR_BGR2GRAY)    \n",
    "    rootdir = \".\\\\lbp\"\n",
    "    which = file.split(os.sep)[-3]\n",
    "    subdir = file.split(os.sep)[-2]\n",
    "    name = file.split(os.sep)[-1]\n",
    "    _, lbp_img = desc.describe(gray)\n",
    "    path = os.path.join(rootdir, which, subdir)\n",
    "    os.makedirs(path,exist_ok=True)\n",
    "    cv2.imwrite(os.path.join(path,name), lbp_img)"
   ]
  }
 ],
 "metadata": {
  "kernelspec": {
   "display_name": "Python 3",
   "language": "python",
   "name": "python3"
  },
  "language_info": {
   "codemirror_mode": {
    "name": "ipython",
    "version": 3
   },
   "file_extension": ".py",
   "mimetype": "text/x-python",
   "name": "python",
   "nbconvert_exporter": "python",
   "pygments_lexer": "ipython3",
   "version": "3.6.5"
  }
 },
 "nbformat": 4,
 "nbformat_minor": 2
}
